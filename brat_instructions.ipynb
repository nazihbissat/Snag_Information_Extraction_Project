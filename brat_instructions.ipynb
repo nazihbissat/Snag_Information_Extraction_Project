{
 "cells": [
  {
   "cell_type": "markdown",
   "metadata": {},
   "source": [
    "# BRAT Annotation Tool Installation and Configuration Instructions\n",
    "- In order to download the BRAT annotation tool, follow the instructions at: http://brat.nlplab.org/installation.html\n",
    "- N.B.: The username is ‘editor’ and the password is ‘annotate’.\n",
    "- Once BRAT is installed, enter the created brat directory then enter the directory named ‘data’.\n",
    "- Copy the file entitled ‘NER’ from this repository and paste it in the ‘data’ directory.\n",
    "- In order to start the local BRAT server, which runs on Python 2.x, enter the brat directory (run the command ‘cd brat-v1.3_Crunchy_Frog’), then run the command ‘python2 standalone.py’.\n",
    "- The BRAT standalone server will be running at http://127.0.0.1:8001/"
   ]
  },
  {
   "cell_type": "code",
   "execution_count": null,
   "metadata": {},
   "outputs": [],
   "source": []
  }
 ],
 "metadata": {
  "kernelspec": {
   "display_name": "Python 3",
   "language": "python",
   "name": "python3"
  },
  "language_info": {
   "codemirror_mode": {
    "name": "ipython",
    "version": 3
   },
   "file_extension": ".py",
   "mimetype": "text/x-python",
   "name": "python",
   "nbconvert_exporter": "python",
   "pygments_lexer": "ipython3",
   "version": "3.6.5"
  }
 },
 "nbformat": 4,
 "nbformat_minor": 2
}
