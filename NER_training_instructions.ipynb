{
 "cells": [
  {
   "cell_type": "markdown",
   "metadata": {},
   "source": [
    "# Stanford NLP NER Model Training Instructions\n",
    "\n",
    "\n",
    "First, connect to the Match VPN and SSH into nbissat-stanford-nlp-brat-training (IP: ip-10-105-24-83.ec2.internal, using the Match-DataScience key pair)\n",
    "\n",
    "## To train a blank model on a fixed set of 1000 postings (only if this is the first model i.e. there is no trained model to modify):\n",
    "- On the EC2 instance, activate the stfd_env environment (source activate stfd_env) and run the following command: python stanford-nlp-brat-training.py --no-retrain '/home/ubuntu/brat-v1.3_Crunchy_Frog/data/Training_NER/StanfordNLP' '/home/ubuntu/match.fracking/stanford-ner-tagger/'\n",
    "\n",
    "\n",
    "## To run brat, open it in web browser on local machine and make corrections to model:\n",
    "- On the EC2 instance, activate the brat_env environment (source activate brat_env), enter the brat directory (cd brat-v1.3_Crunchy_Frog), and run brat using the command 'python2 standalone.py'\n",
    "- ssh -L 8001:localhost:xxxx nbissat-stanford-nlp-brat-training -fNg (replace xxxx with desired port number)\n",
    "- Open localhost:xxxx in web browser\n",
    "- In the top-right corner, click on the 'Log in' button and input the username 'editor' and the password 'annotate'\n",
    "- To modify an annotation, double-click on its tag and select the correct label or delete the annotation\n",
    "- To add a missing annotation, highlight the span that you wish to annotate and choose the corresponding label\n",
    "\n",
    "## To re-train a model after corrections:\n",
    "- On the EC2 instance, activate the stfd_env environment (source activate stfd_env) and run the following command: python stanford-nlp-brat-training.py --retrain '/home/ubuntu/brat-v1.3_Crunchy_Frog/data/Training_NER/StanfordNLP' '/home/ubuntu/match.fracking/stanford-ner-tagger/'"
   ]
  },
  {
   "cell_type": "code",
   "execution_count": null,
   "metadata": {},
   "outputs": [],
   "source": []
  }
 ],
 "metadata": {
  "kernelspec": {
   "display_name": "Python 3",
   "language": "python",
   "name": "python3"
  },
  "language_info": {
   "codemirror_mode": {
    "name": "ipython",
    "version": 3
   },
   "file_extension": ".py",
   "mimetype": "text/x-python",
   "name": "python",
   "nbconvert_exporter": "python",
   "pygments_lexer": "ipython3",
   "version": "3.6.5"
  }
 },
 "nbformat": 4,
 "nbformat_minor": 2
}
